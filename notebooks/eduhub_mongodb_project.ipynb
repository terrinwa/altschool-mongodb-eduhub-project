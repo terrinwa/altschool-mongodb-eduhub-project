{
 "cells": [
  {
   "cell_type": "markdown",
   "id": "7f106ef7",
   "metadata": {},
   "source": [
    "# EduHub MongoDB Project\n",
    "\n",
    "EduHub is a MongoDB-powered e-learning platform focused on African and Diaspora art and history education. Students and instructors engage with dynamic, multi-lesson courses, submit assignments, and receive real-time feedback. This notebook demonstrates database modeling, operations, and analytics using MongoDB and PyMongo.\n"
   ]
  },
  {
   "cell_type": "code",
   "execution_count": null,
   "id": "51bb21f5",
   "metadata": {},
   "outputs": [],
   "source": [
    "from pymongo import MongoClient\n",
    "from datetime import datetime, timedelta\n",
    "import pandas as pd\n",
    "import pprint\n",
    "\n",
    "client = MongoClient(\"mongodb://localhost:27017/\")\n",
    "db = client['eduhub_db']\n"
   ]
  },
  {
   "cell_type": "markdown",
   "id": "14cd80b5",
   "metadata": {},
   "source": [
    "## Database and Collection Creation"
   ]
  },
  {
   "cell_type": "code",
   "execution_count": null,
   "id": "ca48a1e7",
   "metadata": {},
   "outputs": [],
   "source": [
    "# Collections will be created when documents are inserted. For validation, use the JSON schema from schema_validation.json.\n",
    "# Example (not executed here to avoid error if already exists):\n",
    "# db.create_collection(\"users\")\n",
    "# db.command(\"collMod\", \"users\", validator={...})\n"
   ]
  },
  {
   "cell_type": "markdown",
   "id": "65a1988d",
   "metadata": {},
   "source": [
    "## Schema Overview\n",
    "\n",
    "**Users**\n",
    "- Fields: `userId`, `email`, `role`, `profile`, `dateJoined`, `isActive`\n",
    "\n",
    "**Courses**\n",
    "- Topics: African art movements, colonial resistance history, diaspora music culture\n",
    "- Fields: `courseId`, `title`, `category`, `tags`, `instructorId`, `level`, `price`, etc.\n",
    "\n",
    "**Enrollments**\n",
    "- Tracks user-course relationships with status and timestamps\n",
    "\n",
    "**Lessons**\n",
    "- Nested under courses, includes multimedia content\n",
    "\n",
    "**Assignments**\n",
    "- Graded/ungraded projects, reflections, essays\n",
    "\n",
    "**Submissions**\n",
    "- Student responses with grades and feedback\n"
   ]
  },
  {
   "cell_type": "markdown",
   "id": "a82bb398",
   "metadata": {},
   "source": [
    "## Data Population"
   ]
  },
  {
   "cell_type": "code",
   "execution_count": null,
   "id": "0bfbe961",
   "metadata": {},
   "outputs": [],
   "source": [
    "# Example: Insert sample users\n",
    "sample_users = [\n",
    "    {\n",
    "        \"userId\": \"u001\",\n",
    "        \"email\": \"student1@eduhub.org\",\n",
    "        \"firstName\": \"Ayo\",\n",
    "        \"lastName\": \"Smith\",\n",
    "        \"role\": \"student\",\n",
    "        \"dateJoined\": datetime.now(),\n",
    "        \"profile\": {\"bio\": \"Loves African art\", \"skills\": [\"history\", \"writing\"], \"avatar\": \"\"}, \n",
    "        \"isActive\": True\n",
    "    }\n",
    "    # Add more users...\n",
    "]\n",
    "db.users.insert_many(sample_users)\n"
   ]
  },
  {
   "cell_type": "markdown",
   "id": "815da32d",
   "metadata": {},
   "source": [
    "## CRUD Operations"
   ]
  },
  {
   "cell_type": "code",
   "execution_count": null,
   "id": "fef6aff3",
   "metadata": {},
   "outputs": [],
   "source": [
    "# Create: Add a course\n",
    "db.courses.insert_one({\n",
    "    \"courseId\": \"c001\",\n",
    "    \"title\": \"Pre-Colonial West African Kingdoms\",\n",
    "    \"description\": \"A look into empires like Mali and Songhai.\",\n",
    "    \"instructorId\": \"u010\",\n",
    "    \"category\": \"History\",\n",
    "    \"level\": \"beginner\",\n",
    "    \"duration\": 10,\n",
    "    \"price\": 0,\n",
    "    \"tags\": [\"africa\", \"kingdoms\", \"empires\"],\n",
    "    \"createdAt\": datetime.now(),\n",
    "    \"updatedAt\": datetime.now(),\n",
    "    \"isPublished\": False\n",
    "})\n"
   ]
  },
  {
   "cell_type": "markdown",
   "id": "0252ae8c",
   "metadata": {},
   "source": [
    "## Aggregation and Analytics"
   ]
  },
  {
   "cell_type": "code",
   "execution_count": null,
   "id": "2ab1ac5b",
   "metadata": {},
   "outputs": [],
   "source": [
    "# Total enrollments per course\n",
    "pipeline = [\n",
    "    {\"$group\": {\"_id\": \"$courseId\", \"total_enrollments\": {\"$sum\": 1}}}\n",
    "]\n",
    "list(db.enrollments.aggregate(pipeline))\n"
   ]
  },
  {
   "cell_type": "markdown",
   "id": "3f63fc71",
   "metadata": {},
   "source": [
    "## Indexing and Performance"
   ]
  },
  {
   "cell_type": "code",
   "execution_count": null,
   "id": "a23339fb",
   "metadata": {},
   "outputs": [],
   "source": [
    "# Create index on email\n",
    "db.users.create_index(\"email\", unique=True)\n",
    "\n",
    "# Explain plan\n",
    "query = db.users.find({\"email\": \"student1@eduhub.org\"})\n",
    "print(query.explain())\n"
   ]
  },
  {
   "cell_type": "markdown",
   "id": "fee7ef4f",
   "metadata": {},
   "source": [
    "## Validation and Error Handling"
   ]
  },
  {
   "cell_type": "code",
   "execution_count": null,
   "id": "cea97afd",
   "metadata": {},
   "outputs": [],
   "source": [
    "try:\n",
    "    db.users.insert_one({\"email\": \"student1@eduhub.org\"})  # missing required fields\n",
    "except Exception as e:\n",
    "    print(\"Insert error:\", e)\n"
   ]
  },
  {
   "cell_type": "markdown",
   "id": "e8337113",
   "metadata": {},
   "source": [
    "## Final Thoughts\n",
    "\n",
    "- Practiced MongoDB CRUD and aggregation operations\n",
    "- Built a structured, scalable backend for a culturally meaningful learning platform\n",
    "- Explored query optimization and error handling strategies\n"
   ]
  }
 ],
 "metadata": {},
 "nbformat": 4,
 "nbformat_minor": 5
}