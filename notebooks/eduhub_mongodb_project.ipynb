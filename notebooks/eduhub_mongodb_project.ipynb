# EduHub MongoDB Project

EduHub is a MongoDB-powered e-learning platform focused on African and Diaspora art and history education. Students and instructors engage with dynamic, multi-lesson courses, submit assignments, and receive real-time feedback. This notebook demonstrates database modeling, operations, and analytics using MongoDB and PyMongo.

from pymongo import MongoClient
from datetime import datetime, timedelta
import pandas as pd
import pprint

client = MongoClient("mongodb://localhost:27017/")
db = client['eduhub_db']

## Database and Collection Creation
# Collections will be created when documents are inserted. For validation, use the JSON schema from schema_validation.json.
# Example (not executed here to avoid error if already exists):
# db.create_collection("users")
# db.command("collMod", "users", validator={...})

## Schema Overview

**Users**
- Fields: `userId`, `email`, `role`, `profile`, `dateJoined`, `isActive`

**Courses**
- Topics: African art movements, colonial resistance history, diaspora music culture
- Fields: `courseId`, `title`, `category`, `tags`, `instructorId`, `level`, `price`, etc.

**Enrollments**
- Tracks user-course relationships with status and timestamps

**Lessons**
- Nested under courses, includes multimedia content

**Assignments**
- Graded/ungraded projects, reflections, essays

**Submissions**
- Student responses with grades and feedback

## Data Population
# Example: Insert sample users
sample_users = [
    {
        "userId": "u001",
        "email": "student1@eduhub.org",
        "firstName": "Ayo",
        "lastName": "Smith",
        "role": "student",
        "dateJoined": datetime.now(),
        "profile": {"bio": "Loves African art", "skills": ["history", "writing"], "avatar": ""}, 
        "isActive": True
    }
    # Add more users...
]
db.users.insert_many(sample_users)

## CRUD Operations
# Create: Add a course
db.courses.insert_one({
    "courseId": "c001",
    "title": "Pre-Colonial West African Kingdoms",
    "description": "A look into empires like Mali and Songhai.",
    "instructorId": "u010",
    "category": "History",
    "level": "beginner",
    "duration": 10,
    "price": 0,
    "tags": ["africa", "kingdoms", "empires"],
    "createdAt": datetime.now(),
    "updatedAt": datetime.now(),
    "isPublished": False
})

## Aggregation and Analytics
# Total enrollments per course
pipeline = [
    {"$group": {"_id": "$courseId", "total_enrollments": {"$sum": 1}}}
]
list(db.enrollments.aggregate(pipeline))

## Indexing and Performance
# Create index on email
db.users.create_index("email", unique=True)

# Explain plan
query = db.users.find({"email": "student1@eduhub.org"})
print(query.explain())

## Validation and Error Handling
try:
    db.users.insert_one({"email": "student1@eduhub.org"})  # missing required fields
except Exception as e:
    print("Insert error:", e)

## Final Thoughts

- Practiced MongoDB CRUD and aggregation operations
- Built a structured, scalable backend for a culturally meaningful learning platform
- Explored query optimization and error handling strategies

